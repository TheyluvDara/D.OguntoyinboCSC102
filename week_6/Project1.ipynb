{
 "cells": [
  {
   "cell_type": "code",
   "execution_count": 16,
   "id": "34cd1a5e-8822-4b0f-a453-625312bd309b",
   "metadata": {},
   "outputs": [],
   "source": [
    "import tkinter as tk\n",
    "from tkinter import messagebox\n",
    "\n",
    "delivery_locations = [\"Ibeju Lekki\", \"Epe\"]\n",
    "\n",
    "def weight(location):\n",
    "    weight = int(weight_entry.get().strip().lower())\n",
    "    location = location.strip().lower()\n",
    "\n",
    "    if weight >= 10 and location == delivery_locations[0].strip().lower():\n",
    "        price = 5_000\n",
    "    elif weight < 10 and location == delivery_locations[0].strip().lower():\n",
    "        price = 3_500\n",
    "    elif weight >= 10 and location == delivery_locations[1].strip().lower():\n",
    "        price = 10_000\n",
    "    elif weight < 10 and location == delivery_locations[1].strip().lower():\n",
    "        price = 5_000\n",
    "    else:\n",
    "        print(\"IDK\")\n",
    "\n",
    "    message = f\"You are to pay N{price}\"\n",
    "    messagebox.showinfo(\"Thank You\", message)\n",
    "    \n",
    "\n",
    "def location():\n",
    "    location_info = location_entry.get().strip().title()\n",
    "\n",
    "    if location_info in delivery_locations:\n",
    "            weight(location_info)\n",
    "    else:\n",
    "        message = f\"Sorry we dont deliver to {location_info.title()}\"\n",
    "        messagebox.showinfo(\"Sorry\", message)\n",
    "        \n",
    "root = tk.Tk()\n",
    "root.title(\"Simi Services\")\n",
    "root.geometry(\"400x250\")\n",
    "\n",
    "tk.Label(root, text=\"Enter the weight of the item:\").pack(pady=(30, 2))\n",
    "weight_entry = tk.Entry(root)\n",
    "weight_entry.pack()\n",
    "\n",
    "tk.Label(root, text=\"Enter the delivery location:\").pack(pady=(30, 2))\n",
    "location_entry = tk.Entry(root)\n",
    "location_entry.pack()\n",
    "\n",
    "tk.Button(root, text=\"Submit\", command=location).pack(pady=30)\n",
    "\n",
    "root.mainloop()"
   ]
  },
  {
   "cell_type": "code",
   "execution_count": null,
   "id": "f1bd770d-cd08-4847-abc5-7455106b1dfd",
   "metadata": {},
   "outputs": [],
   "source": []
  }
 ],
 "metadata": {
  "kernelspec": {
   "display_name": "Python 3 (ipykernel)",
   "language": "python",
   "name": "python3"
  },
  "language_info": {
   "codemirror_mode": {
    "name": "ipython",
    "version": 3
   },
   "file_extension": ".py",
   "mimetype": "text/x-python",
   "name": "python",
   "nbconvert_exporter": "python",
   "pygments_lexer": "ipython3",
   "version": "3.12.6"
  }
 },
 "nbformat": 4,
 "nbformat_minor": 5
}
