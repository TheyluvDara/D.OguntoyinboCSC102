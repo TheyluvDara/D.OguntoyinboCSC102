{
 "cells": [
  {
   "cell_type": "code",
   "execution_count": 12,
   "id": "6b3d3cbd-c562-4622-b219-4b434e2fed80",
   "metadata": {},
   "outputs": [
    {
     "name": "stdin",
     "output_type": "stream",
     "text": [
      "How many years of experience do you have:\n",
      " 30\n",
      "How old are you:\n",
      " 60\n"
     ]
    },
    {
     "name": "stdout",
     "output_type": "stream",
     "text": [
      "Your Annual Tax Revenue(ATR) is N5600000\n"
     ]
    }
   ],
   "source": [
    "# Annual tax Revenue (ATR) Calculator\n",
    "\n",
    "experience = int(input(\"How many years of experience do you have:\\n\"))\n",
    "age = int(input(\"How old are you:\\n\"))\n",
    "atr = 0\n",
    "\n",
    "if experience < 0 or age < 0:\n",
    "    print(\"Invalid age or number try again\")\n",
    "elif experience > 25 and age >= 55:\n",
    "    atr += 5_600_000\n",
    "elif experience > 20 and age >= 45:\n",
    "    atr += 4_480_000\n",
    "elif experience > 10 and age >= 35:\n",
    "    atr += 1_500_000\n",
    "elif experience < 10 and age < 35:\n",
    "    atr += 550_000\n",
    "else: \n",
    "    print(\"Invalid input\")\n",
    "    \n",
    "print(f\"Your Annual Tax Revenue(ATR) is N{atr}\")"
   ]
  }
 ],
 "metadata": {
  "kernelspec": {
   "display_name": "Python 3 (ipykernel)",
   "language": "python",
   "name": "python3"
  },
  "language_info": {
   "codemirror_mode": {
    "name": "ipython",
    "version": 3
   },
   "file_extension": ".py",
   "mimetype": "text/x-python",
   "name": "python",
   "nbconvert_exporter": "python",
   "pygments_lexer": "ipython3",
   "version": "3.12.6"
  }
 },
 "nbformat": 4,
 "nbformat_minor": 5
}
