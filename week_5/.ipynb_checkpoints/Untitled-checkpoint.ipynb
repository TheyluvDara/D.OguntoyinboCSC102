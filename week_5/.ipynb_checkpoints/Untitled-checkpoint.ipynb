{
 "cells": [
  {
   "cell_type": "code",
   "execution_count": 1,
   "id": "a1198208-5499-4a26-bf10-d36d3928c63d",
   "metadata": {},
   "outputs": [
    {
     "name": "stdout",
     "output_type": "stream",
     "text": [
      "I'm first call to user defined function!\n",
      "Again second call to the same function\n"
     ]
    }
   ],
   "source": [
    "def printme( str ):\n",
    "   #This is a print function\n",
    "   print (str);\n",
    "   return;\n",
    "\n",
    "printme(\"I'm first call to user defined function!\");\n",
    "printme(\"Again second call to the same function\");"
   ]
  },
  {
   "cell_type": "code",
   "execution_count": 2,
   "id": "0b7ecb1a-d6f2-45c1-a98d-b4e02f9ae19b",
   "metadata": {},
   "outputs": [
    {
     "name": "stdout",
     "output_type": "stream",
     "text": [
      "Values inside the function:  [10, 20, 30, [1, 2, 3, 4]]\n",
      "Values outside the function:  [10, 20, 30, [1, 2, 3, 4]]\n"
     ]
    }
   ],
   "source": [
    "def changeme( mylist ):\n",
    "   #This changes a passed list\n",
    "   mylist.append([1,2,3,4])\n",
    "   print (\"Values inside the function: \", mylist)\n",
    "   return\n",
    "\n",
    "mylist = [10,20,30]\n",
    "changeme( mylist )\n",
    "print (\"Values outside the function: \", mylist)"
   ]
  },
  {
   "cell_type": "code",
   "execution_count": 3,
   "id": "aa93c3b0-3596-4561-b551-b84c16c7fd18",
   "metadata": {},
   "outputs": [
    {
     "name": "stdout",
     "output_type": "stream",
     "text": [
      "Values inside the function:  [1, 2, 3, 4]\n",
      "Values outside the function:  [10, 20, 30]\n"
     ]
    }
   ],
   "source": [
    "def changeme( mylist ):\n",
    "   #This changes a passed list\n",
    "   mylist = [1,2,3,4];\n",
    "   print(\"Values inside the function: \", mylist)\n",
    "   return\n",
    "\n",
    "mylist = [10,20,30];\n",
    "changeme( mylist );\n",
    "print (\"Values outside the function: \", mylist);"
   ]
  },
  {
   "cell_type": "code",
   "execution_count": 4,
   "id": "e8195334-6b59-463a-9532-c55cd85d0c9e",
   "metadata": {},
   "outputs": [
    {
     "name": "stdout",
     "output_type": "stream",
     "text": [
      "My string\n"
     ]
    }
   ],
   "source": [
    "def printme( str ):\n",
    "   #This prints a passed string\n",
    "   print (str);\n",
    "   return;\n",
    "\n",
    "printme(str = \"My string\");"
   ]
  },
  {
   "cell_type": "code",
   "execution_count": 5,
   "id": "d07d0785-ab57-4826-a335-c54573239427",
   "metadata": {},
   "outputs": [
    {
     "name": "stdout",
     "output_type": "stream",
     "text": [
      "Name:  miki\n",
      "Age:  50\n"
     ]
    }
   ],
   "source": [
    "def printinfo( name, age ):\n",
    "   #Test function\n",
    "   print (\"Name: \", name);\n",
    "   print (\"Age: \", age);\n",
    "   return;\n",
    "\n",
    "printinfo( age=50, name=\"miki\" );"
   ]
  },
  {
   "cell_type": "code",
   "execution_count": 6,
   "id": "1681dd4d-7dbb-4582-8995-1d73347118c1",
   "metadata": {},
   "outputs": [
    {
     "name": "stdout",
     "output_type": "stream",
     "text": [
      "Name:  miki\n",
      "Age:  50\n",
      "Name:  miki\n",
      "Age:  35\n"
     ]
    }
   ],
   "source": [
    "def printinfo( name, age = 35 ):\n",
    "   #Test function\n",
    "   print (\"Name: \", name);\n",
    "   print (\"Age: \", age);\n",
    "   return;\n",
    "\n",
    "printinfo( age=50, name=\"miki\" );\n",
    "printinfo( name=\"miki\" );"
   ]
  },
  {
   "cell_type": "code",
   "execution_count": 11,
   "id": "092beeae-cb33-4bd8-bf39-bbe196b974c9",
   "metadata": {},
   "outputs": [
    {
     "name": "stdout",
     "output_type": "stream",
     "text": [
      "Output is: \n",
      "10\n",
      "Output is: \n",
      "70\n",
      "60\n"
     ]
    }
   ],
   "source": [
    "def printinfo( arg1, *vartuple ):\n",
    "   #This is test\n",
    "   print (\"Output is: \")\n",
    "   print (arg1)\n",
    "   for var in vartuple:\n",
    "      print (var)\n",
    "      return;\n",
    "\n",
    "printinfo( 10 );\n",
    "printinfo( 70, 60, 50 );"
   ]
  },
  {
   "cell_type": "code",
   "execution_count": 12,
   "id": "2fa480ed-c954-45ad-9fdf-67a8f115d1ec",
   "metadata": {},
   "outputs": [
    {
     "name": "stdout",
     "output_type": "stream",
     "text": [
      "Inside the function local total :  30\n",
      "Outside the function global total :  50\n"
     ]
    }
   ],
   "source": [
    "total = 50 # This is global variable.\n",
    "\n",
    "def sum(arg1, arg2):\n",
    "    # Add both the parameters\n",
    "    total = arg1 + arg2;\n",
    "    print (\"Inside the function local total : \", total)\n",
    "    return total;\n",
    "\n",
    "# Now you can call sum function\n",
    "sum(10, 20)\n",
    "print (\"Outside the function global total : \", total)"
   ]
  },
  {
   "cell_type": "code",
   "execution_count": 13,
   "id": "e0cbbc13-dc65-4459-96c9-1f5d1cffbd95",
   "metadata": {},
   "outputs": [
    {
     "name": "stdout",
     "output_type": "stream",
     "text": [
      "Lawal Edward Tolu Tina\n",
      "Mary\n"
     ]
    }
   ],
   "source": [
    "def swap(x, y):\n",
    "    global a\n",
    "    a = \"Lawal\"\n",
    "    x,y = y,x\n",
    "    b = \"Chris\"\n",
    "    b = \"Edward\"\n",
    "    c = \"Lola\"\n",
    "    print(a,b,x,y)\n",
    "    a = \"Mary\"\n",
    "\n",
    "a = \"Tina\"  # Initialize 'a' before calling swap\n",
    "\n",
    "swap(\"Tina\", \"Tolu\")\n",
    "print(a)"
   ]
  }
 ],
 "metadata": {
  "kernelspec": {
   "display_name": "Python 3 (ipykernel)",
   "language": "python",
   "name": "python3"
  },
  "language_info": {
   "codemirror_mode": {
    "name": "ipython",
    "version": 3
   },
   "file_extension": ".py",
   "mimetype": "text/x-python",
   "name": "python",
   "nbconvert_exporter": "python",
   "pygments_lexer": "ipython3",
   "version": "3.12.6"
  }
 },
 "nbformat": 4,
 "nbformat_minor": 5
}
