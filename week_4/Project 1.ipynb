{
 "cells": [
  {
   "cell_type": "markdown",
   "id": "bc32fe97-83e6-4211-acc1-42aefbc43d64",
   "metadata": {},
   "source": [
    "Algorythm to generate student table\n",
    "\n",
    "BEGIN\n",
    "    // Create lists for both boys and girls  \n",
    "    INITIALIZE girls_names, girls_age, girls_height, girls_scores  \n",
    "    INITIALIZE boys_names, boys_age, boys_height, boys_scores  \n",
    "\n",
    "    // Combine both girls' and boys' lists  \n",
    "    student_names = girls_names + boys_names  \n",
    "    student_ages = girls_age + boys_age  \n",
    "    student_heights = girls_height + boys_height  \n",
    "    student_scores = girls_scores + boys_scores  \n",
    "\n",
    "    // Print table header  \n",
    "    PRINT \"********* Student Table **********\"  \n",
    "    PRINT \"----------------------------------\"  \n",
    "    PRINT \"S/N | Name      | Age | Height | Scores\"  \n",
    "    PRINT \"----------------------------------\"  \n",
    "\n",
    "    // Iterate through the lists and print the values  \n",
    "    FOR i FROM 0 TO LENGTH(student_names) - 1 DO  \n",
    "        PRINT FORMAT((i + 1), student_names[i], student_ages[i], student_heights[i],            student_scores[i])  \n",
    "    END FOR  \n",
    "\n",
    "END  \n"
   ]
  },
  {
   "cell_type": "code",
   "execution_count": 13,
   "id": "5fde6378-89b7-4cc8-b057-c7b0341c02bc",
   "metadata": {},
   "outputs": [
    {
     "name": "stdout",
     "output_type": "stream",
     "text": [
      "*********Student Table**********\n",
      "--------------------------------\n",
      "S/N|Name      |Age|Height|Scores\n",
      "--------------------------------\n",
      "  1|Evelyn    | 17|   5.5|   80\n",
      "  2|Jessica   | 16|   6.0|   85\n",
      "  3|Somto     | 17|   5.4|   70\n",
      "  4|Edith     | 18|   5.9|   60\n",
      "  5|Liza      | 16|   5.6|   76\n",
      "  6|Madonna   | 18|   5.5|   66\n",
      "  7|Waje      | 17|   6.1|   87\n",
      "  8|Tola      | 20|   6.0|   95\n",
      "  9|Aisha     | 19|   5.7|   50\n",
      " 10|Latifa    | 17|   5.5|   49\n",
      " 11|Chinedu   | 19|   5.7|   74\n",
      " 12|Liam      | 16|   5.9|   87\n",
      " 13|Wale      | 18|   5.8|   75\n",
      " 14|Gbenga    | 17|   6.1|   68\n",
      " 15|Abiola    | 20|   5.9|   66\n",
      " 16|Kola      | 19|   5.5|   78\n",
      " 17|Kunle     | 16|   6.1|   87\n",
      " 18|George    | 18|   5.4|   98\n",
      " 19|Thomas    | 17|   5.8|   54\n",
      " 20|Wesley    | 19|   5.7|   60\n"
     ]
    }
   ],
   "source": [
    "# Program to generate a table of 20 students\n",
    "\n",
    "# Girls Data\n",
    "girls_names = ['Evelyn', 'Jessica', 'Somto', 'Edith', \"Liza\", \"Madonna\", \"Waje\", \"Tola\", \"Aisha\", \"Latifa\"]\n",
    "girls_age = [17, 16, 17, 18, 16, 18, 17, 20, 19, 17]\n",
    "girls_height = [5.5, 6.0, 5.4, 5.9, 5.6, 5.5, 6.1, 6.0, 5.7, 5.5]\n",
    "girls_scores = [80, 85, 70, 60, 76, 66, 87, 95, 50, 49]\n",
    "\n",
    "# Boys Data\n",
    "boys_names = [\"Chinedu\", \"Liam\", \"Wale\", \"Gbenga\", \"Abiola\", \"Kola\", \"Kunle\", \"George\", \"Thomas\", \"Wesley\"]\n",
    "boys_age = [19, 16, 18, 17, 20, 19, 16, 18, 17, 19]\n",
    "boys_height = [5.7, 5.9, 5.8, 6.1, 5.9, 5.5, 6.1, 5.4, 5.8, 5.7]\n",
    "boys_scores = [74, 87, 75, 68, 66, 78, 87, 98, 54, 60]\n",
    "\n",
    "# combining both male and female lists\n",
    "student_names = girls_names + boys_names\n",
    "student_ages = girls_age + boys_age\n",
    "student_height = girls_height + boys_height\n",
    "student_scores = girls_scores + boys_scores\n",
    "\n",
    "\n",
    "print(\"*********Student Table**********\")\n",
    "print(\"-\" * 32)\n",
    "print(f\"{\"S/N\":>3}|{\"Name\":<10}|{\"Age\":>3}|{\"Height\":>4}|{\"Scores\":>5}\")\n",
    "print(\"-\" * 32)\n",
    "\n",
    "# iterating throught the lists\n",
    "for i in range(0,len(student_names)):\n",
    "    print(f\"{(i + 1):>3}|{student_names[i]:<10}|{student_ages[i]:>3}|{student_height[i]:>6}|{student_scores[i]:>5}\")\n"
   ]
  },
  {
   "cell_type": "code",
   "execution_count": null,
   "id": "00c7e0c9-7f62-4b6c-90ed-48291bc2de67",
   "metadata": {},
   "outputs": [],
   "source": []
  }
 ],
 "metadata": {
  "kernelspec": {
   "display_name": "Python 3 (ipykernel)",
   "language": "python",
   "name": "python3"
  },
  "language_info": {
   "codemirror_mode": {
    "name": "ipython",
    "version": 3
   },
   "file_extension": ".py",
   "mimetype": "text/x-python",
   "name": "python",
   "nbconvert_exporter": "python",
   "pygments_lexer": "ipython3",
   "version": "3.12.6"
  }
 },
 "nbformat": 4,
 "nbformat_minor": 5
}
