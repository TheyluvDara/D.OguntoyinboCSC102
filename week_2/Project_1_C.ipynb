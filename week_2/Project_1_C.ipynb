{
 "cells": [
  {
   "cell_type": "markdown",
   "id": "cb9fcdde-fdf0-453a-8334-0b333f0dc197",
   "metadata": {},
   "source": [
    "Algorithm to Swap Ages for Two Names\n",
    "\n",
    "START  \n",
    "    PRINT \"Enter first person's name:\"  \n",
    "    READ name1  \n",
    "    PRINT \"Enter first person's age:\"  \n",
    "    READ age1  \n",
    "\n",
    "    PRINT \"Enter second person's name:\"  \n",
    "    READ name2  \n",
    "    PRINT \"Enter second person's age:\"  \n",
    "    READ age2  \n",
    "\n",
    "    SET temp = age1  \n",
    "    SET age1 = age2  \n",
    "    SET age2 = temp  \n",
    "\n",
    "    PRINT \"After swapping:\"  \n",
    "    PRINT name1, \"is now\", age1, \"years old\"  \n",
    "    PRINT name2, \"is now\", age2, \"years old\"  \n",
    "END  \n"
   ]
  }
 ],
 "metadata": {
  "kernelspec": {
   "display_name": "Python 3 (ipykernel)",
   "language": "python",
   "name": "python3"
  },
  "language_info": {
   "codemirror_mode": {
    "name": "ipython",
    "version": 3
   },
   "file_extension": ".py",
   "mimetype": "text/x-python",
   "name": "python",
   "nbconvert_exporter": "python",
   "pygments_lexer": "ipython3",
   "version": "3.12.6"
  }
 },
 "nbformat": 4,
 "nbformat_minor": 5
}
