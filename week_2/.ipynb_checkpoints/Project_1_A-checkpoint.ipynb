{
 "cells": [
  {
   "cell_type": "markdown",
   "id": "46f64315-a89a-4e57-8d1e-68300fe25fd3",
   "metadata": {},
   "source": [
    "Pseudocode for Store checkout after purchase\n",
    "\n",
    "START  \n",
    "    CREATE an empty list called items  \n",
    "    CREATE an empty list called prices  \n",
    "    SET total_price to 0  \n",
    "\n",
    "    REPEAT  \n",
    "        ASK user for item name  \n",
    "        ASK user for item price  \n",
    "        ADD item name to items list  \n",
    "        ADD item price to prices list  \n",
    "        ADD price to total_price  \n",
    "        ASK user: \"Do you have more items?\"  \n",
    "    UNTIL user says \"No\"  \n",
    "\n",
    "    IF total_price is eligible for discount  \n",
    "        APPLY discount and update total_price  \n",
    "\n",
    "    PRINT \"Receipt:\"  \n",
    "    FOR each item in items list  \n",
    "        PRINT item name and corresponding price  \n",
    "    PRINT \"Total Amount:\", total_price  \n",
    "\n",
    "END  \n"
   ]
  }
 ],
 "metadata": {
  "kernelspec": {
   "display_name": "Python 3 (ipykernel)",
   "language": "python",
   "name": "python3"
  },
  "language_info": {
   "codemirror_mode": {
    "name": "ipython",
    "version": 3
   },
   "file_extension": ".py",
   "mimetype": "text/x-python",
   "name": "python",
   "nbconvert_exporter": "python",
   "pygments_lexer": "ipython3",
   "version": "3.12.6"
  }
 },
 "nbformat": 4,
 "nbformat_minor": 5
}
